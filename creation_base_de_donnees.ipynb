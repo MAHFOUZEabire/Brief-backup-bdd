{
 "cells": [
  {
   "cell_type": "code",
   "execution_count": 1,
   "metadata": {},
   "outputs": [],
   "source": [
    "import requests\n",
    "import os\n",
    "from IPython.display import Image\n",
    "import sqlite3\n",
    "import json"
   ]
  },
  {
   "cell_type": "code",
   "execution_count": 2,
   "metadata": {},
   "outputs": [],
   "source": [
    "## CREATION BDD"
   ]
  },
  {
   "cell_type": "code",
   "execution_count": 3,
   "metadata": {},
   "outputs": [
    {
     "name": "stdout",
     "output_type": "stream",
     "text": [
      "La base de données a été créée\n"
     ]
    }
   ],
   "source": [
    "try:\n",
    "    \n",
    "    db = sqlite3.connect('station_latest_measurements.db') \n",
    "    \n",
    "    cursor = db.cursor()\n",
    "    \n",
    "    cursor.execute('''create table if not exists stations (\n",
    "        Id_station INTEGER NOT NULL primary key,\n",
    "        Name TEXT,\n",
    "        latitude FLOAT,\n",
    "        longitude FLOAT,\n",
    "        location_date VARCHAR,\n",
    "        location_success TEXT\n",
    "        )''')\n",
    "    cursor.execute('''create table if not exists measurements (\n",
    "        Id_measurements INTEGER PRIMARY KEY AUTOINCREMENT,\n",
    "        Id_station INTEGER,\n",
    "        date_measurements DATE,\n",
    "        wind_heading FLOAT,\n",
    "        wind_speed_avg FLOAT,\n",
    "        wind_speed_min FLOAT,\n",
    "        wind_speed_max FLOAT,\n",
    "        status_date DATE,\n",
    "        foreign key(Id_station) REFERENCES stations(Id_station))''')\n",
    "    db.commit()\n",
    "    \n",
    "    cursor.close()\n",
    "    db.close()\n",
    "except:\n",
    "    \n",
    "    print(\"Une erreur est survenue lors de la creation de la base\")\n",
    "    exit(1)\n",
    "        \n",
    "print(\"La base de données a été créée\") \n"
   ]
  }
 ],
 "metadata": {
  "kernelspec": {
   "display_name": "Python 3",
   "language": "python",
   "name": "python3"
  },
  "language_info": {
   "codemirror_mode": {
    "name": "ipython",
    "version": 3
   },
   "file_extension": ".py",
   "mimetype": "text/x-python",
   "name": "python",
   "nbconvert_exporter": "python",
   "pygments_lexer": "ipython3",
   "version": "3.8.6"
  }
 },
 "nbformat": 4,
 "nbformat_minor": 4
}
